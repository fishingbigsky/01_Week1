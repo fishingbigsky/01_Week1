{
 "cells": [
  {
   "cell_type": "code",
   "execution_count": 2,
   "id": "d55f8325",
   "metadata": {},
   "outputs": [
    {
     "name": "stdout",
     "output_type": "stream",
     "text": [
      "I am most excited to learn more Python so I can help my children\n"
     ]
    }
   ],
   "source": [
    "# I am excited to learn Python but even more excited to learn git and github\n",
    "print('I am most excited to learn more Python so I can help my children')"
   ]
  },
  {
   "cell_type": "code",
   "execution_count": null,
   "id": "871b1b7c",
   "metadata": {},
   "outputs": [],
   "source": []
  }
 ],
 "metadata": {
  "kernelspec": {
   "display_name": "Python 3",
   "language": "python",
   "name": "python3"
  },
  "language_info": {
   "codemirror_mode": {
    "name": "ipython",
    "version": 3
   },
   "file_extension": ".py",
   "mimetype": "text/x-python",
   "name": "python",
   "nbconvert_exporter": "python",
   "pygments_lexer": "ipython3",
   "version": "3.8.8"
  }
 },
 "nbformat": 4,
 "nbformat_minor": 5
}
